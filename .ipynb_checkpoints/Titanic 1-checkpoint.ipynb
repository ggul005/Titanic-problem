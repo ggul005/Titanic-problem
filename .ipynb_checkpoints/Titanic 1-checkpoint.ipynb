{
 "cells": [
  {
   "cell_type": "markdown",
   "metadata": {},
   "source": [
    "# Titanic: Machine Learning from Disaster"
   ]
  },
  {
   "cell_type": "code",
   "execution_count": 1,
   "metadata": {
    "collapsed": false
   },
   "outputs": [],
   "source": [
    "import pandas as pd\n",
    "import numpy as np\n",
    "import matplotlib.pyplot as plt\n",
    "%matplotlib inline\n",
    "plt.style.use('ggplot')"
   ]
  },
  {
   "cell_type": "markdown",
   "metadata": {},
   "source": [
    "## 1 Loading data"
   ]
  },
  {
   "cell_type": "code",
   "execution_count": 2,
   "metadata": {
    "collapsed": true
   },
   "outputs": [],
   "source": [
    "data_train = pd.read_csv('train.csv')\n",
    "data_test  = pd.read_csv('test.csv')"
   ]
  },
  {
   "cell_type": "code",
   "execution_count": 3,
   "metadata": {
    "collapsed": false
   },
   "outputs": [
    {
     "data": {
      "text/html": [
       "<div>\n",
       "<table border=\"1\" class=\"dataframe\">\n",
       "  <thead>\n",
       "    <tr style=\"text-align: right;\">\n",
       "      <th></th>\n",
       "      <th>PassengerId</th>\n",
       "      <th>Survived</th>\n",
       "      <th>Pclass</th>\n",
       "      <th>Name</th>\n",
       "      <th>Sex</th>\n",
       "      <th>Age</th>\n",
       "      <th>SibSp</th>\n",
       "      <th>Parch</th>\n",
       "      <th>Ticket</th>\n",
       "      <th>Fare</th>\n",
       "      <th>Cabin</th>\n",
       "      <th>Embarked</th>\n",
       "    </tr>\n",
       "  </thead>\n",
       "  <tbody>\n",
       "    <tr>\n",
       "      <th>0</th>\n",
       "      <td>892</td>\n",
       "      <td>NaN</td>\n",
       "      <td>3</td>\n",
       "      <td>Kelly, Mr. James</td>\n",
       "      <td>male</td>\n",
       "      <td>34.5</td>\n",
       "      <td>0</td>\n",
       "      <td>0</td>\n",
       "      <td>330911</td>\n",
       "      <td>7.8292</td>\n",
       "      <td>NaN</td>\n",
       "      <td>Q</td>\n",
       "    </tr>\n",
       "    <tr>\n",
       "      <th>1</th>\n",
       "      <td>893</td>\n",
       "      <td>NaN</td>\n",
       "      <td>3</td>\n",
       "      <td>Wilkes, Mrs. James (Ellen Needs)</td>\n",
       "      <td>female</td>\n",
       "      <td>47.0</td>\n",
       "      <td>1</td>\n",
       "      <td>0</td>\n",
       "      <td>363272</td>\n",
       "      <td>7.0000</td>\n",
       "      <td>NaN</td>\n",
       "      <td>S</td>\n",
       "    </tr>\n",
       "    <tr>\n",
       "      <th>2</th>\n",
       "      <td>894</td>\n",
       "      <td>NaN</td>\n",
       "      <td>2</td>\n",
       "      <td>Myles, Mr. Thomas Francis</td>\n",
       "      <td>male</td>\n",
       "      <td>62.0</td>\n",
       "      <td>0</td>\n",
       "      <td>0</td>\n",
       "      <td>240276</td>\n",
       "      <td>9.6875</td>\n",
       "      <td>NaN</td>\n",
       "      <td>Q</td>\n",
       "    </tr>\n",
       "    <tr>\n",
       "      <th>3</th>\n",
       "      <td>895</td>\n",
       "      <td>NaN</td>\n",
       "      <td>3</td>\n",
       "      <td>Wirz, Mr. Albert</td>\n",
       "      <td>male</td>\n",
       "      <td>27.0</td>\n",
       "      <td>0</td>\n",
       "      <td>0</td>\n",
       "      <td>315154</td>\n",
       "      <td>8.6625</td>\n",
       "      <td>NaN</td>\n",
       "      <td>S</td>\n",
       "    </tr>\n",
       "    <tr>\n",
       "      <th>4</th>\n",
       "      <td>896</td>\n",
       "      <td>NaN</td>\n",
       "      <td>3</td>\n",
       "      <td>Hirvonen, Mrs. Alexander (Helga E Lindqvist)</td>\n",
       "      <td>female</td>\n",
       "      <td>22.0</td>\n",
       "      <td>1</td>\n",
       "      <td>1</td>\n",
       "      <td>3101298</td>\n",
       "      <td>12.2875</td>\n",
       "      <td>NaN</td>\n",
       "      <td>S</td>\n",
       "    </tr>\n",
       "  </tbody>\n",
       "</table>\n",
       "</div>"
      ],
      "text/plain": [
       "   PassengerId  Survived  Pclass  \\\n",
       "0          892       NaN       3   \n",
       "1          893       NaN       3   \n",
       "2          894       NaN       2   \n",
       "3          895       NaN       3   \n",
       "4          896       NaN       3   \n",
       "\n",
       "                                           Name     Sex   Age  SibSp  Parch  \\\n",
       "0                              Kelly, Mr. James    male  34.5      0      0   \n",
       "1              Wilkes, Mrs. James (Ellen Needs)  female  47.0      1      0   \n",
       "2                     Myles, Mr. Thomas Francis    male  62.0      0      0   \n",
       "3                              Wirz, Mr. Albert    male  27.0      0      0   \n",
       "4  Hirvonen, Mrs. Alexander (Helga E Lindqvist)  female  22.0      1      1   \n",
       "\n",
       "    Ticket     Fare Cabin Embarked  \n",
       "0   330911   7.8292   NaN        Q  \n",
       "1   363272   7.0000   NaN        S  \n",
       "2   240276   9.6875   NaN        Q  \n",
       "3   315154   8.6625   NaN        S  \n",
       "4  3101298  12.2875   NaN        S  "
      ]
     },
     "execution_count": 3,
     "metadata": {},
     "output_type": "execute_result"
    }
   ],
   "source": [
    "# Adding a \"Survived\" column to the test data\n",
    "data_test.insert(1,'Survived',np.repeat(np.nan,len(data_test)))\n",
    "data_test.head()"
   ]
  },
  {
   "cell_type": "code",
   "execution_count": 4,
   "metadata": {
    "collapsed": false
   },
   "outputs": [
    {
     "data": {
      "text/plain": [
       "array(['PassengerId', 'Survived', 'Pclass', 'Name', 'Sex', 'Age', 'SibSp',\n",
       "       'Parch', 'Ticket', 'Fare', 'Cabin', 'Embarked'], dtype=object)"
      ]
     },
     "execution_count": 4,
     "metadata": {},
     "output_type": "execute_result"
    }
   ],
   "source": [
    "data_train.columns.values"
   ]
  },
  {
   "cell_type": "code",
   "execution_count": 5,
   "metadata": {
    "collapsed": false
   },
   "outputs": [
    {
     "name": "stdout",
     "output_type": "stream",
     "text": [
      "Total count:  891\n",
      "Perish:       549\n",
      "Survived:     342\n"
     ]
    }
   ],
   "source": [
    "# Take a look at survival rates: more perish than survived\n",
    "\n",
    "print('Total count: ',data_train.Survived.count())\n",
    "print('Perish:      ', len(data_train.Survived[data_train.Survived==0]))\n",
    "print('Survived:    ', len(data_train.Survived[data_train.Survived==1]))"
   ]
  },
  {
   "cell_type": "code",
   "execution_count": 6,
   "metadata": {
    "collapsed": false
   },
   "outputs": [
    {
     "data": {
      "text/plain": [
       "0    549\n",
       "1    342\n",
       "Name: Survived, dtype: int64"
      ]
     },
     "execution_count": 6,
     "metadata": {},
     "output_type": "execute_result"
    }
   ],
   "source": [
    "# N.B. This can be also done easilly as follows\n",
    "data_train.Survived.value_counts()"
   ]
  },
  {
   "cell_type": "markdown",
   "metadata": {},
   "source": [
    "## 2 Features engineering"
   ]
  },
  {
   "cell_type": "markdown",
   "metadata": {},
   "source": [
    "### \"Pclass\" "
   ]
  },
  {
   "cell_type": "code",
   "execution_count": 7,
   "metadata": {
    "collapsed": false
   },
   "outputs": [
    {
     "data": {
      "text/html": [
       "<div>\n",
       "<table border=\"1\" class=\"dataframe\">\n",
       "  <thead>\n",
       "    <tr style=\"text-align: right;\">\n",
       "      <th>Survived</th>\n",
       "      <th>0</th>\n",
       "      <th>1</th>\n",
       "    </tr>\n",
       "    <tr>\n",
       "      <th>Pclass</th>\n",
       "      <th></th>\n",
       "      <th></th>\n",
       "    </tr>\n",
       "  </thead>\n",
       "  <tbody>\n",
       "    <tr>\n",
       "      <th>1</th>\n",
       "      <td>80</td>\n",
       "      <td>136</td>\n",
       "    </tr>\n",
       "    <tr>\n",
       "      <th>2</th>\n",
       "      <td>97</td>\n",
       "      <td>87</td>\n",
       "    </tr>\n",
       "    <tr>\n",
       "      <th>3</th>\n",
       "      <td>372</td>\n",
       "      <td>119</td>\n",
       "    </tr>\n",
       "  </tbody>\n",
       "</table>\n",
       "</div>"
      ],
      "text/plain": [
       "Survived    0    1\n",
       "Pclass            \n",
       "1          80  136\n",
       "2          97   87\n",
       "3         372  119"
      ]
     },
     "execution_count": 7,
     "metadata": {},
     "output_type": "execute_result"
    }
   ],
   "source": [
    "df = data_train.groupby('Pclass')['Survived'].value_counts()\n",
    "df = df.unstack()\n",
    "df"
   ]
  },
  {
   "cell_type": "code",
   "execution_count": 8,
   "metadata": {
    "collapsed": false
   },
   "outputs": [
    {
     "data": {
      "image/png": "[encoded data removed]",
      "text/plain": [
       "<matplotlib.figure.Figure at 0x7fa91c34be80>"
      ]
     },
     "metadata": {},
     "output_type": "display_data"
    }
   ],
   "source": [
    "# Pandas plotting\n",
    "\n",
    "df.plot.bar(stacked=True,figsize = (8,6),cmap = plt.cm.RdYlGn)\n",
    "plt.ylabel('Total count')\n",
    "plt.xticks(rotation = 'horizontal');"
   ]
  },
  {
   "cell_type": "code",
   "execution_count": 9,
   "metadata": {
    "collapsed": false
   },
   "outputs": [
    {
     "data": {
      "image/png": "[encoded data removed]",
      "text/plain": [
       "<matplotlib.figure.Figure at 0x7fa911923978>"
      ]
     },
     "metadata": {},
     "output_type": "display_data"
    }
   ],
   "source": [
    "# Seaborn plotting\n",
    "\n",
    "import seaborn as sns\n",
    "df = data_train.groupby('Pclass')['Survived'].value_counts().unstack()\n",
    "\n",
    "sns.barplot(x=df.index,y=df[1]+df[0],color='green')\n",
    "sns.barplot(x=df.index,y=df[0],color='red')\n",
    "plt.ylabel('Total Count')\n",
    "\n",
    "topbar = plt.Rectangle((0,0),1,1,fc=\"red\", edgecolor = 'none')\n",
    "bottombar = plt.Rectangle((0,0),1,1,fc='green',  edgecolor = 'none')\n",
    "\n",
    "plt.legend([topbar,bottombar],['0', '1'], loc=2, ncol = 1, prop={'size':16});"
   ]
  },
  {
   "cell_type": "code",
   "execution_count": 10,
   "metadata": {
    "collapsed": false,
    "scrolled": false
   },
   "outputs": [
    {
     "data": {
      "text/html": [
       "\n",
       "    <div class=\"bk-banner\">\n",
       "        <a href=\"http://bokeh.pydata.org\" target=\"_blank\" class=\"bk-logo bk-logo-small bk-logo-notebook\"></a>\n",
       "        <span id=\"ada92a71-07cb-484b-9b5c-79bf79cce776\">Loading BokehJS ...</span>\n",
       "    </div>"
      ]
     },
     "metadata": {},
     "output_type": "display_data"
    },
    {
     "data": {
      "application/javascript": [
       "\n",
       "(function(global) {\n",
       "  function now() {\n",
       "    return new Date();\n",
       "  }\n",
       "\n",
       "  if (typeof (window._bokeh_onload_callbacks) === \"undefined\") {\n",
       "    window._bokeh_onload_callbacks = [];\n",
       "  }\n",
       "\n",
       "  function run_callbacks() {\n",
       "    window._bokeh_onload_callbacks.forEach(function(callback) { callback() });\n",
       "    delete window._bokeh_onload_callbacks\n",
       "    console.info(\"Bokeh: all callbacks have finished\");\n",
       "  }\n",
       "\n",
       "  function load_libs(js_urls, callback) {\n",
       "    window._bokeh_onload_callbacks.push(callback);\n",
       "    if (window._bokeh_is_loading > 0) {\n",
       "      console.log(\"Bokeh: BokehJS is being loaded, scheduling callback at\", now());\n",
       "      return null;\n",
       "    }\n",
       "    if (js_urls == null || js_urls.length === 0) {\n",
       "      run_callbacks();\n",
       "      return null;\n",
       "    }\n",
       "    console.log(\"Bokeh: BokehJS not loaded, scheduling load and callback at\", now());\n",
       "    window._bokeh_is_loading = js_urls.length;\n",
       "    for (var i = 0; i < js_urls.length; i++) {\n",
       "      var url = js_urls[i];\n",
       "      var s = document.createElement('script');\n",
       "      s.src = url;\n",
       "      s.async = false;\n",
       "      s.onreadystatechange = s.onload = function() {\n",
       "        window._bokeh_is_loading--;\n",
       "        if (window._bokeh_is_loading === 0) {\n",
       "          console.log(\"Bokeh: all BokehJS libraries loaded\");\n",
       "          run_callbacks()\n",
       "        }\n",
       "      };\n",
       "      s.onerror = function() {\n",
       "        console.warn(\"failed to load library \" + url);\n",
       "      };\n",
       "      console.log(\"Bokeh: injecting script tag for BokehJS library: \", url);\n",
       "      document.getElementsByTagName(\"head\")[0].appendChild(s);\n",
       "    }\n",
       "  };\n",
       "\n",
       "  var js_urls = ['https://cdn.pydata.org/bokeh/release/bokeh-0.11.1.min.js', 'https://cdn.pydata.org/bokeh/release/bokeh-widgets-0.11.1.min.js', 'https://cdn.pydata.org/bokeh/release/bokeh-compiler-0.11.1.min.js'];\n",
       "\n",
       "  var inline_js = [\n",
       "    function(Bokeh) {\n",
       "      Bokeh.set_log_level(\"info\");\n",
       "    },\n",
       "    \n",
       "    function(Bokeh) {\n",
       "      Bokeh.$(\"#ada92a71-07cb-484b-9b5c-79bf79cce776\").text(\"BokehJS successfully loaded\");\n",
       "    },\n",
       "    function(Bokeh) {\n",
       "      console.log(\"Bokeh: injecting CSS: https://cdn.pydata.org/bokeh/release/bokeh-0.11.1.min.css\");\n",
       "      Bokeh.embed.inject_css(\"https://cdn.pydata.org/bokeh/release/bokeh-0.11.1.min.css\");\n",
       "      console.log(\"Bokeh: injecting CSS: https://cdn.pydata.org/bokeh/release/bokeh-widgets-0.11.1.min.css\");\n",
       "      Bokeh.embed.inject_css(\"https://cdn.pydata.org/bokeh/release/bokeh-widgets-0.11.1.min.css\");\n",
       "    }\n",
       "  ];\n",
       "\n",
       "  function run_inline_js() {\n",
       "    for (var i = 0; i < inline_js.length; i++) {\n",
       "      inline_js[i](window.Bokeh);\n",
       "    }\n",
       "  }\n",
       "\n",
       "  if (window._bokeh_is_loading === 0) {\n",
       "    console.log(\"Bokeh: BokehJS loaded, going straight to plotting\");\n",
       "    run_inline_js();\n",
       "  } else {\n",
       "    load_libs(js_urls, function() {\n",
       "      console.log(\"Bokeh: BokehJS plotting callback run at\", now());\n",
       "      run_inline_js();\n",
       "    });\n",
       "  }\n",
       "}(this));"
      ]
     },
     "metadata": {},
     "output_type": "display_data"
    },
    {
     "data": {
      "text/html": [
       "\n",
       "\n",
       "    <div class=\"plotdiv\" id=\"03b28e57-14c6-4976-9c5f-3acc5957cb73\"></div>\n",
       "<script type=\"text/javascript\">\n",
       "  \n",
       "  (function(global) {\n",
       "    function now() {\n",
       "      return new Date();\n",
       "    }\n",
       "  \n",
       "    if (typeof (window._bokeh_onload_callbacks) === \"undefined\") {\n",
       "      window._bokeh_onload_callbacks = [];\n",
       "    }\n",
       "  \n",
       "    function run_callbacks() {\n",
       "      window._bokeh_onload_callbacks.forEach(function(callback) { callback() });\n",
       "      delete window._bokeh_onload_callbacks\n",
       "      console.info(\"Bokeh: all callbacks have finished\");\n",
       "    }\n",
       "  \n",
       "    function load_libs(js_urls, callback) {\n",
       "      window._bokeh_onload_callbacks.push(callback);\n",
       "      if (window._bokeh_is_loading > 0) {\n",
       "        console.log(\"Bokeh: BokehJS is being loaded, scheduling callback at\", now());\n",
       "        return null;\n",
       "      }\n",
       "      if (js_urls == null || js_urls.length === 0) {\n",
       "        run_callbacks();\n",
       "        return null;\n",
       "      }\n",
       "      console.log(\"Bokeh: BokehJS not loaded, scheduling load and callback at\", now());\n",
       "      window._bokeh_is_loading = js_urls.length;\n",
       "      for (var i = 0; i < js_urls.length; i++) {\n",
       "        var url = js_urls[i];\n",
       "        var s = document.createElement('script');\n",
       "        s.src = url;\n",
       "        s.async = false;\n",
       "        s.onreadystatechange = s.onload = function() {\n",
       "          window._bokeh_is_loading--;\n",
       "          if (window._bokeh_is_loading === 0) {\n",
       "            console.log(\"Bokeh: all BokehJS libraries loaded\");\n",
       "            run_callbacks()\n",
       "          }\n",
       "        };\n",
       "        s.onerror = function() {\n",
       "          console.warn(\"failed to load library \" + url);\n",
       "        };\n",
       "        console.log(\"Bokeh: injecting script tag for BokehJS library: \", url);\n",
       "        document.getElementsByTagName(\"head\")[0].appendChild(s);\n",
       "      }\n",
       "    };var element = document.getElementById(\"03b28e57-14c6-4976-9c5f-3acc5957cb73\");\n",
       "    if (element == null) {\n",
       "      console.log(\"Bokeh: ERROR: autoload.js configured with elementid '03b28e57-14c6-4976-9c5f-3acc5957cb73' but no matching script tag was found. \")\n",
       "      return false;\n",
       "    }\n",
       "  \n",
       "    var js_urls = [];\n",
       "  \n",
       "    var inline_js = [\n",
       "      function(Bokeh) {\n",
       "        Bokeh.$(function() {\n",
       "            var docs_json = {\"a7cdee85-5bb4-4183-ab5b-d3b3d6498a13\":{\"roots\":{\"references\":[{\"attributes\":{\"callback\":null,\"end\":515.55},\"id\":\"b1b614c5-7193-4003-9363-1ce4516f2075\",\"type\":\"Range1d\"},{\"attributes\":{\"overlay\":{\"id\":\"963db6e0-8d9f-438b-a82f-95ff20e8f728\",\"type\":\"BoxAnnotation\"},\"plot\":{\"id\":\"a872bcb5-ff1f-4852-bb66-331bbccce899\",\"subtype\":\"Chart\",\"type\":\"Plot\"}},\"id\":\"b6a8c576-7b88-4912-80a3-0995df71cae5\",\"type\":\"BoxZoomTool\"},{\"attributes\":{\"fill_alpha\":{\"field\":\"fill_alpha\"},\"fill_color\":{\"field\":\"color\"},\"height\":{\"field\":\"height\",\"units\":\"data\"},\"line_color\":{\"field\":\"line_color\"},\"width\":{\"field\":\"width\",\"units\":\"data\"},\"x\":{\"field\":\"x\"},\"y\":{\"field\":\"y\"}},\"id\":\"b8e6333b-de26-46fd-9350-c2d9b31861d5\",\"type\":\"Rect\"},{\"attributes\":{\"data_source\":{\"id\":\"97a8f9de-7fc0-406b-b860-ca9131243bf6\",\"type\":\"ColumnDataSource\"},\"glyph\":{\"id\":\"b8e6333b-de26-46fd-9350-c2d9b31861d5\",\"type\":\"Rect\"},\"hover_glyph\":null,\"nonselection_glyph\":null,\"selection_glyph\":null},\"id\":\"972bf33d-c7e8-4103-b3a3-3d6d8354908d\",\"type\":\"GlyphRenderer\"},{\"attributes\":{},\"id\":\"0af23742-8645-403b-aeb0-1318b150f2d1\",\"type\":\"CategoricalTicker\"},{\"attributes\":{\"data_source\":{\"id\":\"ff5a0bc8-b53e-4dee-bcda-7487fb4d756b\",\"type\":\"ColumnDataSource\"},\"glyph\":{\"id\":\"ce3673a9-68d7-427a-935e-9a50fcc8e744\",\"type\":\"Rect\"},\"hover_glyph\":null,\"nonselection_glyph\":null,\"selection_glyph\":null},\"id\":\"ccdb01b7-a742-4665-b20b-cf5154f0b62a\",\"type\":\"GlyphRenderer\"},{\"attributes\":{\"fill_alpha\":{\"field\":\"fill_alpha\"},\"fill_color\":{\"field\":\"color\"},\"height\":{\"field\":\"height\",\"units\":\"data\"},\"line_color\":{\"field\":\"line_color\"},\"width\":{\"field\":\"width\",\"units\":\"data\"},\"x\":{\"field\":\"x\"},\"y\":{\"field\":\"y\"}},\"id\":\"7c6d9211-18ca-4769-9ce1-ac2f1754e1f9\",\"type\":\"Rect\"},{\"attributes\":{},\"id\":\"c114d5ce-0316-4a06-8bc7-56aedd524218\",\"type\":\"CategoricalTickFormatter\"},{\"attributes\":{\"bottom_units\":\"screen\",\"fill_alpha\":{\"value\":0.5},\"fill_color\":{\"value\":\"lightgrey\"},\"left_units\":\"screen\",\"level\":\"overlay\",\"line_alpha\":{\"value\":1.0},\"line_color\":{\"value\":\"black\"},\"line_dash\":[4,4],\"line_width\":{\"value\":2},\"plot\":null,\"render_mode\":\"css\",\"right_units\":\"screen\",\"top_units\":\"screen\"},\"id\":\"963db6e0-8d9f-438b-a82f-95ff20e8f728\",\"type\":\"BoxAnnotation\"},{\"attributes\":{\"plot\":{\"id\":\"a872bcb5-ff1f-4852-bb66-331bbccce899\",\"subtype\":\"Chart\",\"type\":\"Plot\"}},\"id\":\"66b7b43a-ab4b-4931-8b2d-dd18380bc49f\",\"type\":\"PanTool\"},{\"attributes\":{\"fill_alpha\":{\"field\":\"fill_alpha\"},\"fill_color\":{\"field\":\"color\"},\"height\":{\"field\":\"height\",\"units\":\"data\"},\"line_color\":{\"field\":\"line_color\"},\"width\":{\"field\":\"width\",\"units\":\"data\"},\"x\":{\"field\":\"x\"},\"y\":{\"field\":\"y\"}},\"id\":\"ce3673a9-68d7-427a-935e-9a50fcc8e744\",\"type\":\"Rect\"},{\"attributes\":{\"plot\":{\"id\":\"a872bcb5-ff1f-4852-bb66-331bbccce899\",\"subtype\":\"Chart\",\"type\":\"Plot\"}},\"id\":\"79093570-89fd-4511-8852-ae8b141ff454\",\"type\":\"ResetTool\"},{\"attributes\":{\"data_source\":{\"id\":\"82840ea7-86ae-4fea-8cae-a75b35f53ac9\",\"type\":\"ColumnDataSource\"},\"glyph\":{\"id\":\"a647fbdf-b324-4f1b-83b0-742ec146c524\",\"type\":\"Rect\"},\"hover_glyph\":null,\"nonselection_glyph\":null,\"selection_glyph\":null},\"id\":\"9df74d13-2f39-4ed4-92bb-d25863314374\",\"type\":\"GlyphRenderer\"},{\"attributes\":{\"callback\":null,\"column_names\":[\"color\",\"line_color\",\"fill_alpha\",\"height\",\"x\",\"line_alpha\",\"y\",\"width\"],\"data\":{\"Pclass\":[2],\"Survived\":[1],\"chart_index\":[{\"Pclass\":2,\"Survived\":1}],\"color\":[\"#5ab738\"],\"fill_alpha\":[0.8],\"height\":[87.0],\"line_alpha\":[1.0],\"line_color\":[\"white\"],\"width\":[0.8],\"x\":[\"2\"],\"y\":[43.5]}},\"id\":\"82840ea7-86ae-4fea-8cae-a75b35f53ac9\",\"type\":\"ColumnDataSource\"},{\"attributes\":{},\"id\":\"dedc1c4b-c095-45ed-a87e-d9438bb268f3\",\"type\":\"BasicTickFormatter\"},{\"attributes\":{\"callback\":null,\"column_names\":[\"color\",\"line_color\",\"fill_alpha\",\"height\",\"x\",\"line_alpha\",\"y\",\"width\"],\"data\":{\"Pclass\":[2],\"Survived\":[0],\"chart_index\":[{\"Pclass\":2,\"Survived\":0}],\"color\":[\"#f22c40\"],\"fill_alpha\":[0.8],\"height\":[97.0],\"line_alpha\":[1.0],\"line_color\":[\"white\"],\"width\":[0.8],\"x\":[\"2\"],\"y\":[135.5]}},\"id\":\"97a8f9de-7fc0-406b-b860-ca9131243bf6\",\"type\":\"ColumnDataSource\"},{\"attributes\":{\"axis_label\":\"Pclass\",\"formatter\":{\"id\":\"c114d5ce-0316-4a06-8bc7-56aedd524218\",\"type\":\"CategoricalTickFormatter\"},\"major_label_orientation\":0.7853981633974483,\"plot\":{\"id\":\"a872bcb5-ff1f-4852-bb66-331bbccce899\",\"subtype\":\"Chart\",\"type\":\"Plot\"},\"ticker\":{\"id\":\"0af23742-8645-403b-aeb0-1318b150f2d1\",\"type\":\"CategoricalTicker\"}},\"id\":\"1f342fa8-9cf9-46d3-9e00-f49be7b767fe\",\"type\":\"CategoricalAxis\"},{\"attributes\":{\"fill_alpha\":{\"field\":\"fill_alpha\"},\"fill_color\":{\"field\":\"color\"},\"height\":{\"field\":\"height\",\"units\":\"data\"},\"line_color\":{\"field\":\"line_color\"},\"width\":{\"field\":\"width\",\"units\":\"data\"},\"x\":{\"field\":\"x\"},\"y\":{\"field\":\"y\"}},\"id\":\"a647fbdf-b324-4f1b-83b0-742ec146c524\",\"type\":\"Rect\"},{\"attributes\":{\"fill_alpha\":{\"field\":\"fill_alpha\"},\"fill_color\":{\"field\":\"color\"},\"height\":{\"field\":\"height\",\"units\":\"data\"},\"line_color\":{\"field\":\"line_color\"},\"width\":{\"field\":\"width\",\"units\":\"data\"},\"x\":{\"field\":\"x\"},\"y\":{\"field\":\"y\"}},\"id\":\"7ebad6fa-98ae-4391-858b-44e87bcd3426\",\"type\":\"Rect\"},{\"attributes\":{\"callback\":null,\"factors\":[\"1\",\"2\",\"3\"]},\"id\":\"54d79e67-0cd9-4d59-b1e0-ea1faf03dd61\",\"type\":\"FactorRange\"},{\"attributes\":{\"data_source\":{\"id\":\"150c6e8c-fdc9-41c9-a16a-4ede32c1d4ef\",\"type\":\"ColumnDataSource\"},\"glyph\":{\"id\":\"7ebad6fa-98ae-4391-858b-44e87bcd3426\",\"type\":\"Rect\"},\"hover_glyph\":null,\"nonselection_glyph\":null,\"selection_glyph\":null},\"id\":\"b45cd596-40c1-45b5-9e35-4614961645aa\",\"type\":\"GlyphRenderer\"},{\"attributes\":{\"below\":[{\"id\":\"1f342fa8-9cf9-46d3-9e00-f49be7b767fe\",\"type\":\"CategoricalAxis\"}],\"left\":[{\"id\":\"372d427d-a275-4b16-8023-f557c54dd0e0\",\"type\":\"LinearAxis\"}],\"legend\":\"top_left\",\"plot_height\":500,\"renderers\":[{\"id\":\"963db6e0-8d9f-438b-a82f-95ff20e8f728\",\"type\":\"BoxAnnotation\"},{\"id\":\"31b95419-f51f-474c-a51f-4ff1f38cec83\",\"type\":\"GlyphRenderer\"},{\"id\":\"b45cd596-40c1-45b5-9e35-4614961645aa\",\"type\":\"GlyphRenderer\"},{\"id\":\"2346b24b-1dcf-4b9d-9e56-761a7b9c5cfa\",\"type\":\"GlyphRenderer\"},{\"id\":\"ccdb01b7-a742-4665-b20b-cf5154f0b62a\",\"type\":\"GlyphRenderer\"},{\"id\":\"9df74d13-2f39-4ed4-92bb-d25863314374\",\"type\":\"GlyphRenderer\"},{\"id\":\"972bf33d-c7e8-4103-b3a3-3d6d8354908d\",\"type\":\"GlyphRenderer\"},{\"id\":\"1421d07a-9a21-44b8-bfeb-82c67d80ef2d\",\"type\":\"Legend\"},{\"id\":\"1f342fa8-9cf9-46d3-9e00-f49be7b767fe\",\"type\":\"CategoricalAxis\"},{\"id\":\"372d427d-a275-4b16-8023-f557c54dd0e0\",\"type\":\"LinearAxis\"},{\"id\":\"533b258b-f881-4057-bfff-adcbe4367ff1\",\"type\":\"Grid\"}],\"title\":\"Survival rate\",\"title_text_font_size\":{\"value\":\"14pt\"},\"tool_events\":{\"id\":\"d369a0e5-fd62-40bf-85a5-52b8170f1a06\",\"type\":\"ToolEvents\"},\"tools\":[{\"id\":\"66b7b43a-ab4b-4931-8b2d-dd18380bc49f\",\"type\":\"PanTool\"},{\"id\":\"d8ec3935-e747-4e76-a5f5-e6ac2ad819df\",\"type\":\"WheelZoomTool\"},{\"id\":\"b6a8c576-7b88-4912-80a3-0995df71cae5\",\"type\":\"BoxZoomTool\"},{\"id\":\"0e40fec6-e096-4991-aac0-8cb027672b47\",\"type\":\"PreviewSaveTool\"},{\"id\":\"d58cde45-757b-4314-83d1-4cf80474dd67\",\"type\":\"ResizeTool\"},{\"id\":\"79093570-89fd-4511-8852-ae8b141ff454\",\"type\":\"ResetTool\"},{\"id\":\"1c103b07-9fbf-437a-9c4c-a4deeac7ebd5\",\"type\":\"HelpTool\"}],\"x_mapper_type\":\"auto\",\"x_range\":{\"id\":\"54d79e67-0cd9-4d59-b1e0-ea1faf03dd61\",\"type\":\"FactorRange\"},\"xgrid\":false,\"xscale\":\"auto\",\"y_mapper_type\":\"auto\",\"y_range\":{\"id\":\"b1b614c5-7193-4003-9363-1ce4516f2075\",\"type\":\"Range1d\"},\"yscale\":\"auto\"},\"id\":\"a872bcb5-ff1f-4852-bb66-331bbccce899\",\"subtype\":\"Chart\",\"type\":\"Plot\"},{\"attributes\":{\"legends\":[[\"0\",[{\"id\":\"31b95419-f51f-474c-a51f-4ff1f38cec83\",\"type\":\"GlyphRenderer\"}]],[\"1\",[{\"id\":\"b45cd596-40c1-45b5-9e35-4614961645aa\",\"type\":\"GlyphRenderer\"}]]],\"location\":\"top_left\",\"plot\":{\"id\":\"a872bcb5-ff1f-4852-bb66-331bbccce899\",\"subtype\":\"Chart\",\"type\":\"Plot\"}},\"id\":\"1421d07a-9a21-44b8-bfeb-82c67d80ef2d\",\"type\":\"Legend\"},{\"attributes\":{\"callback\":null,\"column_names\":[\"color\",\"line_color\",\"fill_alpha\",\"height\",\"x\",\"line_alpha\",\"y\",\"width\"],\"data\":{\"Pclass\":[3],\"Survived\":[1],\"chart_index\":[{\"Pclass\":3,\"Survived\":1}],\"color\":[\"#5ab738\"],\"fill_alpha\":[0.8],\"height\":[119.0],\"line_alpha\":[1.0],\"line_color\":[\"white\"],\"width\":[0.8],\"x\":[\"3\"],\"y\":[431.5]}},\"id\":\"f6d65f83-7131-42ed-bb02-d72d1a9a76ca\",\"type\":\"ColumnDataSource\"},{\"attributes\":{\"plot\":{\"id\":\"a872bcb5-ff1f-4852-bb66-331bbccce899\",\"subtype\":\"Chart\",\"type\":\"Plot\"}},\"id\":\"0e40fec6-e096-4991-aac0-8cb027672b47\",\"type\":\"PreviewSaveTool\"},{\"attributes\":{\"plot\":{\"id\":\"a872bcb5-ff1f-4852-bb66-331bbccce899\",\"subtype\":\"Chart\",\"type\":\"Plot\"}},\"id\":\"1c103b07-9fbf-437a-9c4c-a4deeac7ebd5\",\"type\":\"HelpTool\"},{\"attributes\":{\"dimension\":1,\"plot\":{\"id\":\"a872bcb5-ff1f-4852-bb66-331bbccce899\",\"subtype\":\"Chart\",\"type\":\"Plot\"},\"ticker\":{\"id\":\"d46dce54-6436-481f-ab53-9d2c3adfafe6\",\"type\":\"BasicTicker\"}},\"id\":\"533b258b-f881-4057-bfff-adcbe4367ff1\",\"type\":\"Grid\"},{\"attributes\":{\"plot\":{\"id\":\"a872bcb5-ff1f-4852-bb66-331bbccce899\",\"subtype\":\"Chart\",\"type\":\"Plot\"}},\"id\":\"d58cde45-757b-4314-83d1-4cf80474dd67\",\"type\":\"ResizeTool\"},{\"attributes\":{\"callback\":null,\"column_names\":[\"color\",\"line_color\",\"fill_alpha\",\"height\",\"x\",\"line_alpha\",\"y\",\"width\"],\"data\":{\"Pclass\":[3],\"Survived\":[0],\"chart_index\":[{\"Pclass\":3,\"Survived\":0}],\"color\":[\"#f22c40\"],\"fill_alpha\":[0.8],\"height\":[372.0],\"line_alpha\":[1.0],\"line_color\":[\"white\"],\"width\":[0.8],\"x\":[\"3\"],\"y\":[186.0]}},\"id\":\"b52ccd09-b7ba-46a2-a34a-12b14e8ab4ce\",\"type\":\"ColumnDataSource\"},{\"attributes\":{\"plot\":{\"id\":\"a872bcb5-ff1f-4852-bb66-331bbccce899\",\"subtype\":\"Chart\",\"type\":\"Plot\"}},\"id\":\"d8ec3935-e747-4e76-a5f5-e6ac2ad819df\",\"type\":\"WheelZoomTool\"},{\"attributes\":{\"data_source\":{\"id\":\"b52ccd09-b7ba-46a2-a34a-12b14e8ab4ce\",\"type\":\"ColumnDataSource\"},\"glyph\":{\"id\":\"7c6d9211-18ca-4769-9ce1-ac2f1754e1f9\",\"type\":\"Rect\"},\"hover_glyph\":null,\"nonselection_glyph\":null,\"selection_glyph\":null},\"id\":\"31b95419-f51f-474c-a51f-4ff1f38cec83\",\"type\":\"GlyphRenderer\"},{\"attributes\":{},\"id\":\"d46dce54-6436-481f-ab53-9d2c3adfafe6\",\"type\":\"BasicTicker\"},{\"attributes\":{\"callback\":null,\"column_names\":[\"color\",\"line_color\",\"fill_alpha\",\"height\",\"x\",\"line_alpha\",\"y\",\"width\"],\"data\":{\"Pclass\":[1],\"Survived\":[1],\"chart_index\":[{\"Pclass\":1,\"Survived\":1}],\"color\":[\"#5ab738\"],\"fill_alpha\":[0.8],\"height\":[136.0],\"line_alpha\":[1.0],\"line_color\":[\"white\"],\"width\":[0.8],\"x\":[\"1\"],\"y\":[68.0]}},\"id\":\"150c6e8c-fdc9-41c9-a16a-4ede32c1d4ef\",\"type\":\"ColumnDataSource\"},{\"attributes\":{\"callback\":null,\"column_names\":[\"color\",\"line_color\",\"fill_alpha\",\"height\",\"x\",\"line_alpha\",\"y\",\"width\"],\"data\":{\"Pclass\":[1],\"Survived\":[0],\"chart_index\":[{\"Pclass\":1,\"Survived\":0}],\"color\":[\"#f22c40\"],\"fill_alpha\":[0.8],\"height\":[80.0],\"line_alpha\":[1.0],\"line_color\":[\"white\"],\"width\":[0.8],\"x\":[\"1\"],\"y\":[176.0]}},\"id\":\"ff5a0bc8-b53e-4dee-bcda-7487fb4d756b\",\"type\":\"ColumnDataSource\"},{\"attributes\":{},\"id\":\"d369a0e5-fd62-40bf-85a5-52b8170f1a06\",\"type\":\"ToolEvents\"},{\"attributes\":{\"data_source\":{\"id\":\"f6d65f83-7131-42ed-bb02-d72d1a9a76ca\",\"type\":\"ColumnDataSource\"},\"glyph\":{\"id\":\"3b38dfa5-00c5-462a-9815-e7d13c9fcf1e\",\"type\":\"Rect\"},\"hover_glyph\":null,\"nonselection_glyph\":null,\"selection_glyph\":null},\"id\":\"2346b24b-1dcf-4b9d-9e56-761a7b9c5cfa\",\"type\":\"GlyphRenderer\"},{\"attributes\":{\"fill_alpha\":{\"field\":\"fill_alpha\"},\"fill_color\":{\"field\":\"color\"},\"height\":{\"field\":\"height\",\"units\":\"data\"},\"line_color\":{\"field\":\"line_color\"},\"width\":{\"field\":\"width\",\"units\":\"data\"},\"x\":{\"field\":\"x\"},\"y\":{\"field\":\"y\"}},\"id\":\"3b38dfa5-00c5-462a-9815-e7d13c9fcf1e\",\"type\":\"Rect\"},{\"attributes\":{\"axis_label\":\"Total Count\",\"formatter\":{\"id\":\"dedc1c4b-c095-45ed-a87e-d9438bb268f3\",\"type\":\"BasicTickFormatter\"},\"plot\":{\"id\":\"a872bcb5-ff1f-4852-bb66-331bbccce899\",\"subtype\":\"Chart\",\"type\":\"Plot\"},\"ticker\":{\"id\":\"d46dce54-6436-481f-ab53-9d2c3adfafe6\",\"type\":\"BasicTicker\"}},\"id\":\"372d427d-a275-4b16-8023-f557c54dd0e0\",\"type\":\"LinearAxis\"}],\"root_ids\":[\"a872bcb5-ff1f-4852-bb66-331bbccce899\"]},\"title\":\"Bokeh Application\",\"version\":\"0.11.1\"}};\n",
       "            var render_items = [{\"docid\":\"a7cdee85-5bb4-4183-ab5b-d3b3d6498a13\",\"elementid\":\"03b28e57-14c6-4976-9c5f-3acc5957cb73\",\"modelid\":\"a872bcb5-ff1f-4852-bb66-331bbccce899\",\"notebook_comms_target\":\"93fe1c08-9b94-436d-88d2-ee72ff3526a3\"}];\n",
       "            \n",
       "            Bokeh.embed.embed_items(docs_json, render_items);\n",
       "        });\n",
       "      },\n",
       "      function(Bokeh) {\n",
       "      }\n",
       "    ];\n",
       "  \n",
       "    function run_inline_js() {\n",
       "      for (var i = 0; i < inline_js.length; i++) {\n",
       "        inline_js[i](window.Bokeh);\n",
       "      }\n",
       "    }\n",
       "  \n",
       "    if (window._bokeh_is_loading === 0) {\n",
       "      console.log(\"Bokeh: BokehJS loaded, going straight to plotting\");\n",
       "      run_inline_js();\n",
       "    } else {\n",
       "      load_libs(js_urls, function() {\n",
       "        console.log(\"Bokeh: BokehJS plotting callback run at\", now());\n",
       "        run_inline_js();\n",
       "      });\n",
       "    }\n",
       "  }(this));\n",
       "</script>"
      ]
     },
     "metadata": {},
     "output_type": "display_data"
    }
   ],
   "source": [
    "# Bokeh plotting\n",
    "\n",
    "from bokeh.charts import Bar, output_notebook, show\n",
    "from bokeh.plotting import figure\n",
    "\n",
    "p=Bar(data_train, label = 'Pclass',  \n",
    "      stack = 'Survived', \n",
    "      legend='top_left',\n",
    "      width = 600,height =500,\n",
    "      xlabel = 'Pclass',\n",
    "      ylabel = 'Total Count',\n",
    "      title = 'Survival rate')\n",
    "\n",
    "output_notebook()\n",
    "show(p);"
   ]
  },
  {
   "cell_type": "code",
   "execution_count": 11,
   "metadata": {
    "collapsed": false
   },
   "outputs": [
    {
     "data": {
      "text/plain": [
       "True"
      ]
     },
     "execution_count": 11,
     "metadata": {},
     "output_type": "execute_result"
    }
   ],
   "source": [
    "# N.B. Are all names unique in the training set ?\n",
    "len(data_train) == len(data_train.Name.unique())"
   ]
  },
  {
   "cell_type": "markdown",
   "metadata": {},
   "source": [
    "### Titles"
   ]
  },
  {
   "cell_type": "code",
   "execution_count": 12,
   "metadata": {
    "collapsed": false
   },
   "outputs": [
    {
     "data": {
      "text/plain": [
       "0                              Braund, Mr. Owen Harris\n",
       "1    Cumings, Mrs. John Bradley (Florence Briggs Th...\n",
       "2                               Heikkinen, Miss. Laina\n",
       "3         Futrelle, Mrs. Jacques Heath (Lily May Peel)\n",
       "4                             Allen, Mr. William Henry\n",
       "Name: Name, dtype: object"
      ]
     },
     "execution_count": 12,
     "metadata": {},
     "output_type": "execute_result"
    }
   ],
   "source": [
    "# Let's look at names: Titles are after comma inside names\n",
    "data_train.Name.head()"
   ]
  },
  {
   "cell_type": "code",
   "execution_count": 13,
   "metadata": {
    "collapsed": false
   },
   "outputs": [
    {
     "name": "stdout",
     "output_type": "stream",
     "text": [
      "Mr.\n"
     ]
    }
   ],
   "source": [
    "# The first name has title 'Mr.'\n",
    "print(data_train.Name[0].split(sep=',')[1].strip().split()[0].strip())"
   ]
  },
  {
   "cell_type": "code",
   "execution_count": 14,
   "metadata": {
    "collapsed": true
   },
   "outputs": [],
   "source": [
    "# Helper function to extrat titles\n",
    "def extract_title(name):\n",
    "    return name.split(sep=',')[1].strip().split()[0].strip()"
   ]
  },
  {
   "cell_type": "code",
   "execution_count": 15,
   "metadata": {
    "collapsed": false
   },
   "outputs": [
    {
     "name": "stdout",
     "output_type": "stream",
     "text": [
      "['Mr.' 'Mrs.' 'Miss.' 'Master.' 'Don.' 'Rev.' 'Dr.' 'Mme.' 'Ms.' 'Major.'\n",
      " 'Lady.' 'Sir.' 'Mlle.' 'Col.' 'Capt.' 'the' 'Jonkheer.']\n"
     ]
    }
   ],
   "source": [
    "titles = data_train['Name'].apply(extract_title)\n",
    "print(titles.unique())"
   ]
  },
  {
   "cell_type": "code",
   "execution_count": 16,
   "metadata": {
    "collapsed": false
   },
   "outputs": [
    {
     "data": {
      "text/html": [
       "<div>\n",
       "<table border=\"1\" class=\"dataframe\">\n",
       "  <thead>\n",
       "    <tr style=\"text-align: right;\">\n",
       "      <th></th>\n",
       "      <th>PassengerId</th>\n",
       "      <th>Survived</th>\n",
       "      <th>Pclass</th>\n",
       "      <th>Name</th>\n",
       "      <th>Sex</th>\n",
       "      <th>Age</th>\n",
       "      <th>SibSp</th>\n",
       "      <th>Parch</th>\n",
       "      <th>Ticket</th>\n",
       "      <th>Fare</th>\n",
       "      <th>Cabin</th>\n",
       "      <th>Embarked</th>\n",
       "    </tr>\n",
       "  </thead>\n",
       "  <tbody>\n",
       "    <tr>\n",
       "      <th>759</th>\n",
       "      <td>760</td>\n",
       "      <td>1</td>\n",
       "      <td>1</td>\n",
       "      <td>Rothes, the Countess. of (Lucy Noel Martha Dye...</td>\n",
       "      <td>female</td>\n",
       "      <td>33.0</td>\n",
       "      <td>0</td>\n",
       "      <td>0</td>\n",
       "      <td>110152</td>\n",
       "      <td>86.5</td>\n",
       "      <td>B77</td>\n",
       "      <td>S</td>\n",
       "    </tr>\n",
       "  </tbody>\n",
       "</table>\n",
       "</div>"
      ],
      "text/plain": [
       "     PassengerId  Survived  Pclass  \\\n",
       "759          760         1       1   \n",
       "\n",
       "                                                  Name     Sex   Age  SibSp  \\\n",
       "759  Rothes, the Countess. of (Lucy Noel Martha Dye...  female  33.0      0   \n",
       "\n",
       "     Parch  Ticket  Fare Cabin Embarked  \n",
       "759      0  110152  86.5   B77        S  "
      ]
     },
     "execution_count": 16,
     "metadata": {},
     "output_type": "execute_result"
    }
   ],
   "source": [
    "# Who has title 'the' ? It is female of 33 year old. It should be Mrs.\n",
    "\n",
    "data_train[titles == 'the']"
   ]
  },
  {
   "cell_type": "code",
   "execution_count": 17,
   "metadata": {
    "collapsed": false
   },
   "outputs": [
    {
     "data": {
      "text/plain": [
       "array(['Mr.', 'Mrs.', 'Miss.', 'Master.'], dtype=object)"
      ]
     },
     "execution_count": 17,
     "metadata": {},
     "output_type": "execute_result"
    }
   ],
   "source": [
    "# Collapsing titles\n",
    "\n",
    "titles = titles.apply(lambda x: 'Mrs.' if x in ['the','Dona.','Mme.','Lady.'] else x)\n",
    "titles = titles.apply(lambda x: 'Miss.' if x in ['Ms.','Mlle.'] else x)\n",
    "titles = titles.apply(lambda x: 'Mr.' if x in\n",
    "                        ['Jonkheer.','Don.','Col.','Capt.','Major.','Dr.','Rev.','Sir.'] else x)\n",
    "\n",
    "titles.unique()"
   ]
  },
  {
   "cell_type": "code",
   "execution_count": 18,
   "metadata": {
    "collapsed": false
   },
   "outputs": [],
   "source": [
    "# Finally add new feature\n",
    "\n",
    "data_train['Title'] = titles"
   ]
  },
  {
   "cell_type": "code",
   "execution_count": 19,
   "metadata": {
    "collapsed": false
   },
   "outputs": [
    {
     "data": {
      "text/plain": [
       "array(['Mr.', 'Mrs.', 'Miss.', 'Master.'], dtype=object)"
      ]
     },
     "execution_count": 19,
     "metadata": {},
     "output_type": "execute_result"
    }
   ],
   "source": [
    "# Let's repeat this rocedure for the test dataset\n",
    "titles_test = data_test['Name'].apply(extract_title)\n",
    "\n",
    "titles_test = titles_test.apply(lambda x: 'Mrs.' if x in ['the','Dona.','Mme.','Lady.'] else x)\n",
    "titles_test = titles_test.apply(lambda x: 'Miss.' if x in ['Ms.','Mlle.'] else x)\n",
    "titles_test = titles_test.apply(lambda x: 'Mr.' if x in\n",
    "                        ['Jonkheer.','Don.','Col.','Capt.','Major.','Dr.','Rev.','Sir.'] else x)\n",
    "\n",
    "data_test['Title'] = titles_test\n",
    "data_test['Title'].unique()"
   ]
  },
  {
   "cell_type": "code",
   "execution_count": 20,
   "metadata": {
    "collapsed": false
   },
   "outputs": [
    {
     "data": {
      "text/plain": [
       "male      119\n",
       "female      1\n",
       "Name: Sex, dtype: int64"
      ]
     },
     "execution_count": 20,
     "metadata": {},
     "output_type": "execute_result"
    }
   ],
   "source": [
    "# There is one female among Mr. in the first class\n",
    "data_train[(data_train.Title == 'Mr.') & (data_train.Pclass == 1)].Sex.value_counts()"
   ]
  },
  {
   "cell_type": "code",
   "execution_count": 21,
   "metadata": {
    "collapsed": false
   },
   "outputs": [
    {
     "data": {
      "text/html": [
       "<div>\n",
       "<table border=\"1\" class=\"dataframe\">\n",
       "  <thead>\n",
       "    <tr style=\"text-align: right;\">\n",
       "      <th></th>\n",
       "      <th>PassengerId</th>\n",
       "      <th>Survived</th>\n",
       "      <th>Pclass</th>\n",
       "      <th>Name</th>\n",
       "      <th>Sex</th>\n",
       "      <th>Age</th>\n",
       "      <th>SibSp</th>\n",
       "      <th>Parch</th>\n",
       "      <th>Ticket</th>\n",
       "      <th>Fare</th>\n",
       "      <th>Cabin</th>\n",
       "      <th>Embarked</th>\n",
       "      <th>Title</th>\n",
       "    </tr>\n",
       "  </thead>\n",
       "  <tbody>\n",
       "    <tr>\n",
       "      <th>796</th>\n",
       "      <td>797</td>\n",
       "      <td>1</td>\n",
       "      <td>1</td>\n",
       "      <td>Leader, Dr. Alice (Farnham)</td>\n",
       "      <td>female</td>\n",
       "      <td>49.0</td>\n",
       "      <td>0</td>\n",
       "      <td>0</td>\n",
       "      <td>17465</td>\n",
       "      <td>25.9292</td>\n",
       "      <td>D17</td>\n",
       "      <td>S</td>\n",
       "      <td>Mr.</td>\n",
       "    </tr>\n",
       "  </tbody>\n",
       "</table>\n",
       "</div>"
      ],
      "text/plain": [
       "     PassengerId  Survived  Pclass                         Name     Sex   Age  \\\n",
       "796          797         1       1  Leader, Dr. Alice (Farnham)  female  49.0   \n",
       "\n",
       "     SibSp  Parch Ticket     Fare Cabin Embarked Title  \n",
       "796      0      0  17465  25.9292   D17        S   Mr.  "
      ]
     },
     "execution_count": 21,
     "metadata": {},
     "output_type": "execute_result"
    }
   ],
   "source": [
    "# Who is that ?\n",
    "data_train[(data_train.Title == 'Mr.') & (data_train.Pclass == 1) \n",
    "           & (data_train.Sex =='female')]"
   ]
  },
  {
   "cell_type": "code",
   "execution_count": 22,
   "metadata": {
    "collapsed": false
   },
   "outputs": [
    {
     "data": {
      "text/html": [
       "<div>\n",
       "<table border=\"1\" class=\"dataframe\">\n",
       "  <thead>\n",
       "    <tr style=\"text-align: right;\">\n",
       "      <th></th>\n",
       "      <th>PassengerId</th>\n",
       "      <th>Survived</th>\n",
       "      <th>Pclass</th>\n",
       "      <th>Name</th>\n",
       "      <th>Sex</th>\n",
       "      <th>Age</th>\n",
       "      <th>SibSp</th>\n",
       "      <th>Parch</th>\n",
       "      <th>Ticket</th>\n",
       "      <th>Fare</th>\n",
       "      <th>Cabin</th>\n",
       "      <th>Embarked</th>\n",
       "      <th>Title</th>\n",
       "    </tr>\n",
       "  </thead>\n",
       "  <tbody>\n",
       "    <tr>\n",
       "      <th>796</th>\n",
       "      <td>797</td>\n",
       "      <td>1</td>\n",
       "      <td>1</td>\n",
       "      <td>Leader, Dr. Alice (Farnham)</td>\n",
       "      <td>female</td>\n",
       "      <td>49</td>\n",
       "      <td>0</td>\n",
       "      <td>0</td>\n",
       "      <td>17465</td>\n",
       "      <td>25.9292</td>\n",
       "      <td>D17</td>\n",
       "      <td>S</td>\n",
       "      <td>Mrs.</td>\n",
       "    </tr>\n",
       "  </tbody>\n",
       "</table>\n",
       "</div>"
      ],
      "text/plain": [
       "    PassengerId Survived Pclass                         Name     Sex Age  \\\n",
       "796         797        1      1  Leader, Dr. Alice (Farnham)  female  49   \n",
       "\n",
       "    SibSp Parch Ticket     Fare Cabin Embarked Title  \n",
       "796     0     0  17465  25.9292   D17        S  Mrs.  "
      ]
     },
     "execution_count": 22,
     "metadata": {},
     "output_type": "execute_result"
    }
   ],
   "source": [
    "# Let's change 'Mr.' to 'Mrs.' \n",
    "data_train.loc[796,'Title'] = 'Mrs.'\n",
    "pd.DataFrame(data_train.loc[796,:]).T"
   ]
  },
  {
   "cell_type": "code",
   "execution_count": 23,
   "metadata": {
    "collapsed": false
   },
   "outputs": [],
   "source": [
    "# Finally we visualize titles\n",
    "# First we prepare three datafarmes for three Pclasses\n",
    "\n",
    "df1 = data_train[data_train.Pclass == 1].groupby('Title')['Survived'].value_counts().unstack()\n",
    "df2 = data_train[data_train.Pclass == 2].groupby('Title')['Survived'].value_counts().unstack()\n",
    "df3 = data_train[data_train.Pclass == 3].groupby('Title')['Survived'].value_counts().unstack()"
   ]
  },
  {
   "cell_type": "code",
   "execution_count": 24,
   "metadata": {
    "collapsed": false
   },
   "outputs": [
    {
     "data": {
      "image/png": "[encoded data removed]",
      "text/plain": [
       "<matplotlib.figure.Figure at 0x7fa910b07668>"
      ]
     },
     "metadata": {},
     "output_type": "display_data"
    }
   ],
   "source": [
    "fig, axs = plt.subplots(nrows=1,ncols=3,sharey=True)\n",
    "fig.set_size_inches(15,5)\n",
    "fig.suptitle('Pclass',size=15)\n",
    "df1.plot.bar(stacked=True,ax=axs[0],cmap = plt.cm.RdYlGn)\n",
    "df2.plot.bar(stacked=True,ax=axs[1],cmap = plt.cm.RdYlGn)\n",
    "df3.plot.bar(stacked=True,ax=axs[2],cmap = plt.cm.RdYlGn)\n",
    "axs[0].set_ylabel('Total count')\n",
    "axs[0].set_title('1'); axs[1].set_title('2');axs[2].set_title('3');"
   ]
  },
  {
   "cell_type": "markdown",
   "metadata": {},
   "source": [
    "### Names"
   ]
  },
  {
   "cell_type": "code",
   "execution_count": 25,
   "metadata": {
    "collapsed": true
   },
   "outputs": [],
   "source": [
    "# Helper function to extrat second names\n",
    "def extract_second_name(name):\n",
    "    return name.split(sep=',')[0].strip().split()[0].strip()"
   ]
  },
  {
   "cell_type": "code",
   "execution_count": 26,
   "metadata": {
    "collapsed": true
   },
   "outputs": [],
   "source": [
    "data_train['Second_name']= data_train['Name'].apply(extract_second_name)\n",
    "data_test['Second_name']= data_test['Name'].apply(extract_second_name)"
   ]
  },
  {
   "cell_type": "code",
   "execution_count": 27,
   "metadata": {
    "collapsed": false
   },
   "outputs": [],
   "source": [
    "# We do not need column 'Name' anymore\n",
    "data_train = data_train.drop('Name',axis=1)\n",
    "data_test = data_test.drop('Name',axis=1)"
   ]
  },
  {
   "cell_type": "markdown",
   "metadata": {},
   "source": [
    "### Sex"
   ]
  },
  {
   "cell_type": "code",
   "execution_count": 28,
   "metadata": {
    "collapsed": false
   },
   "outputs": [
    {
     "data": {
      "text/plain": [
       "male      577\n",
       "female    314\n",
       "Name: Sex, dtype: int64"
      ]
     },
     "execution_count": 28,
     "metadata": {},
     "output_type": "execute_result"
    }
   ],
   "source": [
    "# How many sexes are there\n",
    "data_train.Sex.value_counts()"
   ]
  },
  {
   "cell_type": "code",
   "execution_count": 29,
   "metadata": {
    "collapsed": true
   },
   "outputs": [],
   "source": [
    "# Let's vizualise again\n",
    "df1 = data_train[data_train.Pclass == 1].groupby('Sex')['Survived'].value_counts().unstack()\n",
    "df2 = data_train[data_train.Pclass == 2].groupby('Sex')['Survived'].value_counts().unstack()\n",
    "df3 = data_train[data_train.Pclass == 3].groupby('Sex')['Survived'].value_counts().unstack()"
   ]
  },
  {
   "cell_type": "code",
   "execution_count": 30,
   "metadata": {
    "collapsed": false
   },
   "outputs": [
    {
     "data": {
      "image/png": "[encoded data removed]",
      "text/plain": [
       "<matplotlib.figure.Figure at 0x7fa910928e48>"
      ]
     },
     "metadata": {},
     "output_type": "display_data"
    }
   ],
   "source": [
    "fig, axs = plt.subplots(nrows=1,ncols=3,sharey=True)\n",
    "fig.set_size_inches(15,5)\n",
    "fig.suptitle('Pclass',size=15)\n",
    "df1.plot.bar(stacked=True,ax=axs[0],cmap = plt.cm.RdYlGn)\n",
    "df2.plot.bar(stacked=True,ax=axs[1],cmap = plt.cm.RdYlGn)\n",
    "df3.plot.bar(stacked=True,ax=axs[2],cmap = plt.cm.RdYlGn)\n",
    "axs[0].set_ylabel('Total count')\n",
    "axs[0].set_title('1'); axs[1].set_title('2');axs[2].set_title('3');"
   ]
  },
  {
   "cell_type": "markdown",
   "metadata": {},
   "source": [
    "### Family size = sibsp + parch +1"
   ]
  },
  {
   "cell_type": "code",
   "execution_count": 31,
   "metadata": {
    "collapsed": false
   },
   "outputs": [],
   "source": [
    "data_train['Family_size'] = data_train.SibSp + data_train.Parch + 1\n",
    "data_test['Family_size'] = data_test.SibSp + data_test.Parch + 1"
   ]
  },
  {
   "cell_type": "code",
   "execution_count": 32,
   "metadata": {
    "collapsed": false
   },
   "outputs": [],
   "source": [
    "grouped =data_train.groupby(['Pclass','Family_size'])['Survived'].value_counts()\n",
    "df1 = grouped[1].unstack()\n",
    "df2 = grouped[2].unstack()\n",
    "df3 = grouped[3].unstack()"
   ]
  },
  {
   "cell_type": "code",
   "execution_count": 33,
   "metadata": {
    "collapsed": false
   },
   "outputs": [
    {
     "data": {
      "image/png": "[encoded data removed]",
      "text/plain": [
       "<matplotlib.figure.Figure at 0x7fa910894470>"
      ]
     },
     "metadata": {},
     "output_type": "display_data"
    }
   ],
   "source": [
    "fig, axs = plt.subplots(nrows=1,ncols=3,sharey=True)\n",
    "fig.set_size_inches(15,5)\n",
    "fig.suptitle('Pclass',size=15)\n",
    "df1.plot.bar(stacked=True,ax=axs[0],cmap = plt.cm.RdYlGn)\n",
    "df2.plot.bar(stacked=True,ax=axs[1],cmap = plt.cm.RdYlGn)\n",
    "df3.plot.bar(stacked=True,ax=axs[2],cmap = plt.cm.RdYlGn)\n",
    "axs[0].set_ylabel('Total count')\n",
    "axs[0].set_title('1'); axs[1].set_title('2');axs[2].set_title('3');"
   ]
  },
  {
   "cell_type": "markdown",
   "metadata": {},
   "source": [
    "### Fare"
   ]
  },
  {
   "cell_type": "code",
   "execution_count": 34,
   "metadata": {
    "collapsed": false
   },
   "outputs": [
    {
     "data": {
      "image/png": "[encoded data removed]",
      "text/plain": [
       "<matplotlib.figure.Figure at 0x7fa910a6c828>"
      ]
     },
     "metadata": {},
     "output_type": "display_data"
    }
   ],
   "source": [
    "# Visualize with some pretty plots\n",
    "\n",
    "import seaborn as sns\n",
    "fig, axs = plt.subplots(nrows=1,ncols=3,sharey=True)\n",
    "fig.set_size_inches(15,5)\n",
    "\n",
    "df1_0 = data_train.loc[((data_train.Pclass == 1) & (data_train.Survived == 0)),'Fare']\n",
    "df1_1 = data_train.loc[((data_train.Pclass == 1) & (data_train.Survived == 1)),'Fare']\n",
    "\n",
    "sns.distplot(df1_0, hist=False, color=\"r\", kde_kws={\"shade\": True},label='0',ax=axs[0])\n",
    "sns.distplot(df1_1, hist=False, color=\"g\", kde_kws={\"shade\": True},label='1',ax=axs[0])\n",
    "\n",
    "df2_0 = data_train.loc[((data_train.Pclass == 2) & (data_train.Survived == 0)),'Fare']\n",
    "df2_1 = data_train.loc[((data_train.Pclass == 2) & (data_train.Survived == 1)),'Fare']\n",
    "\n",
    "sns.distplot(df2_0, hist=False, color=\"r\", kde_kws={\"shade\": True},label='0',ax=axs[1])\n",
    "sns.distplot(df2_1, hist=False, color=\"g\", kde_kws={\"shade\": True},label='1',ax=axs[1])\n",
    "\n",
    "df3_0 = data_train.loc[((data_train.Pclass == 3) & (data_train.Survived == 0)),'Fare']\n",
    "df3_1 = data_train.loc[((data_train.Pclass == 3) & (data_train.Survived == 1)),'Fare']\n",
    "\n",
    "sns.distplot(df3_0, hist=False, color=\"r\", kde_kws={\"shade\": True},label='0',ax=axs[2])\n",
    "sns.distplot(df3_1, hist=False, color=\"g\", kde_kws={\"shade\": True},label='1',ax=axs[2])\n",
    "axs[0].set_ylabel('Density')\n",
    "axs[0].set_title('1'); axs[1].set_title('2');axs[2].set_title('3')\n",
    "fig.suptitle('Pclass',size=15);"
   ]
  },
  {
   "cell_type": "markdown",
   "metadata": {},
   "source": [
    "### Tickets"
   ]
  },
  {
   "cell_type": "code",
   "execution_count": 35,
   "metadata": {
    "collapsed": false
   },
   "outputs": [
    {
     "name": "stdout",
     "output_type": "stream",
     "text": [
      "All passangers:             891\n",
      "Number of unique tickets:   681\n"
     ]
    }
   ],
   "source": [
    "# There are some common tickets in the train data\n",
    "print('All passangers:', '%15d' % len(data_train.Ticket))\n",
    "print('Number of unique tickets:', '%5d' % len(data_train.Ticket.unique()))"
   ]
  },
  {
   "cell_type": "code",
   "execution_count": 36,
   "metadata": {
    "collapsed": false
   },
   "outputs": [
    {
     "name": "stdout",
     "output_type": "stream",
     "text": [
      "All passangers:             418\n",
      "Number of unique tickets:   363\n"
     ]
    }
   ],
   "source": [
    "# as well as in the test data\n",
    "print('All passangers:', '%15d' % len(data_test.Ticket))\n",
    "print('Number of unique tickets:', '%5d' % len(data_test.Ticket.unique()))"
   ]
  },
  {
   "cell_type": "code",
   "execution_count": 37,
   "metadata": {
    "collapsed": false
   },
   "outputs": [],
   "source": [
    "# Cereating two associated features\n",
    "avg_fare = np.zeros(len(data_train))\n",
    "ticket_party_size = np.zeros(len(data_train))\n",
    "tickets = data_train.Ticket.unique()\n",
    "\n",
    "for i in range(len(tickets)):\n",
    "    current_ticket = tickets[i]\n",
    "    party_indx = data_train[data_train.Ticket == current_ticket].index\n",
    "    current_avg_fare = data_train.loc[party_indx[0],'Fare']/len(party_indx)\n",
    "    \n",
    "    for k in range(len(party_indx)):\n",
    "        ticket_party_size[party_indx[k]] = len(party_indx)\n",
    "        avg_fare[party_indx[k]] = current_avg_fare\n",
    "        \n",
    "data_train['Ticket_party_size'] = ticket_party_size\n",
    "data_train['Avg_fare'] = avg_fare"
   ]
  },
  {
   "cell_type": "code",
   "execution_count": 38,
   "metadata": {
    "collapsed": false
   },
   "outputs": [],
   "source": [
    "# Repeating the same for the test data\n",
    "avg_fare = np.zeros(len(data_test))\n",
    "ticket_party_size = np.zeros(len(data_test))\n",
    "tickets = data_test.Ticket.unique()\n",
    "\n",
    "for i in range(len(tickets)):\n",
    "    current_ticket = tickets[i]\n",
    "    party_indx = data_test[data_test.Ticket == current_ticket].index\n",
    "    current_avg_fare = data_test.loc[party_indx[0],'Fare']/len(party_indx)\n",
    "    \n",
    "    for k in range(len(party_indx)):\n",
    "        ticket_party_size[party_indx[k]] = len(party_indx)\n",
    "        avg_fare[party_indx[k]] = current_avg_fare\n",
    "        \n",
    "data_test['Ticket_party_size'] = ticket_party_size\n",
    "data_test['Avg_fare'] = avg_fare"
   ]
  },
  {
   "cell_type": "code",
   "execution_count": 39,
   "metadata": {
    "collapsed": false
   },
   "outputs": [
    {
     "data": {
      "text/html": [
       "<div>\n",
       "<table border=\"1\" class=\"dataframe\">\n",
       "  <thead>\n",
       "    <tr style=\"text-align: right;\">\n",
       "      <th></th>\n",
       "      <th>PassengerId</th>\n",
       "      <th>Survived</th>\n",
       "      <th>Pclass</th>\n",
       "      <th>Sex</th>\n",
       "      <th>Age</th>\n",
       "      <th>SibSp</th>\n",
       "      <th>Parch</th>\n",
       "      <th>Ticket</th>\n",
       "      <th>Fare</th>\n",
       "      <th>Cabin</th>\n",
       "      <th>Embarked</th>\n",
       "      <th>Title</th>\n",
       "      <th>Second_name</th>\n",
       "      <th>Family_size</th>\n",
       "      <th>Ticket_party_size</th>\n",
       "      <th>Avg_fare</th>\n",
       "    </tr>\n",
       "  </thead>\n",
       "  <tbody>\n",
       "  </tbody>\n",
       "</table>\n",
       "</div>"
      ],
      "text/plain": [
       "Empty DataFrame\n",
       "Columns: [PassengerId, Survived, Pclass, Sex, Age, SibSp, Parch, Ticket, Fare, Cabin, Embarked, Title, Second_name, Family_size, Ticket_party_size, Avg_fare]\n",
       "Index: []"
      ]
     },
     "execution_count": 39,
     "metadata": {},
     "output_type": "execute_result"
    }
   ],
   "source": [
    "# Are thre miising values in the new features\n",
    "# No missing values in the training set\n",
    "data_train[data_train.Avg_fare.isnull()]"
   ]
  },
  {
   "cell_type": "code",
   "execution_count": 40,
   "metadata": {
    "collapsed": false
   },
   "outputs": [
    {
     "data": {
      "text/html": [
       "<div>\n",
       "<table border=\"1\" class=\"dataframe\">\n",
       "  <thead>\n",
       "    <tr style=\"text-align: right;\">\n",
       "      <th></th>\n",
       "      <th>PassengerId</th>\n",
       "      <th>Survived</th>\n",
       "      <th>Pclass</th>\n",
       "      <th>Sex</th>\n",
       "      <th>Age</th>\n",
       "      <th>SibSp</th>\n",
       "      <th>Parch</th>\n",
       "      <th>Ticket</th>\n",
       "      <th>Fare</th>\n",
       "      <th>Cabin</th>\n",
       "      <th>Embarked</th>\n",
       "      <th>Title</th>\n",
       "      <th>Second_name</th>\n",
       "      <th>Family_size</th>\n",
       "      <th>Ticket_party_size</th>\n",
       "      <th>Avg_fare</th>\n",
       "    </tr>\n",
       "  </thead>\n",
       "  <tbody>\n",
       "    <tr>\n",
       "      <th>152</th>\n",
       "      <td>1044</td>\n",
       "      <td>NaN</td>\n",
       "      <td>3</td>\n",
       "      <td>male</td>\n",
       "      <td>60.5</td>\n",
       "      <td>0</td>\n",
       "      <td>0</td>\n",
       "      <td>3701</td>\n",
       "      <td>NaN</td>\n",
       "      <td>NaN</td>\n",
       "      <td>S</td>\n",
       "      <td>Mr.</td>\n",
       "      <td>Storey</td>\n",
       "      <td>1</td>\n",
       "      <td>1.0</td>\n",
       "      <td>NaN</td>\n",
       "    </tr>\n",
       "  </tbody>\n",
       "</table>\n",
       "</div>"
      ],
      "text/plain": [
       "     PassengerId  Survived  Pclass   Sex   Age  SibSp  Parch Ticket  Fare  \\\n",
       "152         1044       NaN       3  male  60.5      0      0   3701   NaN   \n",
       "\n",
       "    Cabin Embarked Title Second_name  Family_size  Ticket_party_size  Avg_fare  \n",
       "152   NaN        S   Mr.      Storey            1                1.0       NaN  "
      ]
     },
     "execution_count": 40,
     "metadata": {},
     "output_type": "execute_result"
    }
   ],
   "source": [
    "# One missing value in the testing set\n",
    "data_test[data_test.Avg_fare.isnull()]"
   ]
  },
  {
   "cell_type": "code",
   "execution_count": 41,
   "metadata": {
    "collapsed": false
   },
   "outputs": [
    {
     "data": {
      "text/plain": [
       "7.825"
      ]
     },
     "execution_count": 41,
     "metadata": {},
     "output_type": "execute_result"
    }
   ],
   "source": [
    "# Fixing missing value by looking at similar passengers\n",
    "df = data_test[(data_test.Pclass == 3) & (data_test.Title == 'Mr.') \n",
    "               & (data_test['Family_size']==1) & (data_test.Ticket != '3701')]\n",
    "df.Avg_fare.median()"
   ]
  },
  {
   "cell_type": "code",
   "execution_count": 42,
   "metadata": {
    "collapsed": false
   },
   "outputs": [],
   "source": [
    "data_test.loc[152,'Avg_fare'] = 7.825"
   ]
  },
  {
   "cell_type": "code",
   "execution_count": 43,
   "metadata": {
    "collapsed": false
   },
   "outputs": [],
   "source": [
    "# Normalizing new features\n",
    "from sklearn import preprocessing\n",
    "\n",
    "data_train.Avg_fare = preprocessing.scale(data_train['Avg_fare'])\n",
    "data_train.Ticket_party_size = preprocessing.scale(data_train['Ticket_party_size'])\n",
    "data_test.Avg_fare = preprocessing.scale(data_test['Avg_fare'])\n",
    "data_test.Ticket_party_size = preprocessing.scale(data_test['Ticket_party_size'])"
   ]
  },
  {
   "cell_type": "code",
   "execution_count": 44,
   "metadata": {
    "collapsed": false
   },
   "outputs": [
    {
     "data": {
      "image/png": "[encoded data removed]",
      "text/plain": [
       "<matplotlib.figure.Figure at 0x7fa9107eefd0>"
      ]
     },
     "metadata": {},
     "output_type": "display_data"
    }
   ],
   "source": [
    "# Visualizing new features\n",
    "df = data_train[(data_train.Title == 'Mr.') & (data_train.Pclass == 1)]\n",
    "df1 = df.groupby('Survived').get_group(1)['Avg_fare']\n",
    "df0 = df.groupby('Survived').get_group(0)['Avg_fare']\n",
    "\n",
    "\n",
    "sns.distplot(df0, hist=False, color=\"r\", kde_kws={\"shade\": True},label='0')\n",
    "sns.distplot(df1, hist=False, color=\"g\", kde_kws={\"shade\": True},label='1')\n",
    "topbar = plt.Rectangle((0,0),1,1,fc=\"red\", edgecolor = 'none',alpha=0.5)\n",
    "bottombar = plt.Rectangle((0,0),1,1,fc='green',  edgecolor = 'none',alpha=0.5)\n",
    "plt.legend([topbar,bottombar],[0,1])\n",
    "plt.ylabel('density')\n",
    "plt.title('Mr., 1st class');"
   ]
  },
  {
   "cell_type": "code",
   "execution_count": 45,
   "metadata": {
    "collapsed": false
   },
   "outputs": [
    {
     "data": {
      "image/png": "[encoded data removed]",
      "text/plain": [
       "<matplotlib.figure.Figure at 0x7fa90fa16f28>"
      ]
     },
     "metadata": {},
     "output_type": "display_data"
    }
   ],
   "source": [
    "fig, axs = plt.subplots(nrows=1,ncols=3,sharey=False)\n",
    "fig.set_size_inches(15,5)\n",
    "\n",
    "df1_0 = data_train.loc[((data_train.Pclass == 1) & (data_train.Survived == 0)),'Avg_fare']\n",
    "df1_1 = data_train.loc[((data_train.Pclass == 1) & (data_train.Survived == 1)),'Avg_fare']\n",
    "\n",
    "sns.distplot(df1_0, hist=False, color=\"r\", kde_kws={\"shade\": True},label='0',ax=axs[0])\n",
    "sns.distplot(df1_1, hist=False, color=\"g\", kde_kws={\"shade\": True},label='1',ax=axs[0])\n",
    "\n",
    "df2_0 = data_train.loc[((data_train.Pclass == 2) & (data_train.Survived == 0)),'Avg_fare']\n",
    "df2_1 = data_train.loc[((data_train.Pclass == 2) & (data_train.Survived == 1)),'Avg_fare']\n",
    "\n",
    "sns.distplot(df2_0, hist=False, color=\"r\", kde_kws={\"shade\": True},label='0',ax=axs[1])\n",
    "sns.distplot(df2_1, hist=False, color=\"g\", kde_kws={\"shade\": True},label='1',ax=axs[1])\n",
    "\n",
    "df3_0 = data_train.loc[((data_train.Pclass == 3) & (data_train.Survived == 0)),'Avg_fare']\n",
    "df3_1 = data_train.loc[((data_train.Pclass == 3) & (data_train.Survived == 1)),'Avg_fare']\n",
    "\n",
    "sns.distplot(df3_0, hist=False, color=\"r\", kde_kws={\"shade\": True},label='0',ax=axs[2])\n",
    "sns.distplot(df3_1, hist=False, color=\"g\", kde_kws={\"shade\": True},label='1',ax=axs[2])\n",
    "axs[0].set_ylabel('Density')\n",
    "axs[0].set_title('1'); axs[1].set_title('2');axs[2].set_title('3')\n",
    "fig.suptitle('Pclass',size=15);"
   ]
  },
  {
   "cell_type": "code",
   "execution_count": 48,
   "metadata": {
    "collapsed": true
   },
   "outputs": [],
   "source": [
    "# Helper function to extract first char of a ticket\n",
    "def extract_first_char(ticket):\n",
    "    return ticket.strip()[0]"
   ]
  },
  {
   "cell_type": "code",
   "execution_count": 55,
   "metadata": {
    "collapsed": false
   },
   "outputs": [
    {
     "data": {
      "text/plain": [
       "array(['A', 'P', 'S', '1', '3', '2', 'C', '7', 'W', '4', 'F', 'L', '9',\n",
       "       '6', '5', '8'], dtype=object)"
      ]
     },
     "execution_count": 55,
     "metadata": {},
     "output_type": "execute_result"
    }
   ],
   "source": [
    "ticket_first_char = data_train.Ticket.apply(extract_first_char)\n",
    "ticket_first_char.unique()"
   ]
  },
  {
   "cell_type": "code",
   "execution_count": 56,
   "metadata": {
    "collapsed": true
   },
   "outputs": [],
   "source": [
    "data_train['Ticket_first_char'] = ticket_first_char"
   ]
  },
  {
   "cell_type": "code",
   "execution_count": 57,
   "metadata": {
    "collapsed": true
   },
   "outputs": [],
   "source": [
    "# Reperat the same for the test data\n",
    "ticket_first_char_test = data_test.Ticket.apply(extract_first_char)\n",
    "data_test['Ticket_first_char'] = ticket_first_char"
   ]
  },
  {
   "cell_type": "code",
   "execution_count": 60,
   "metadata": {
    "collapsed": false
   },
   "outputs": [],
   "source": [
    "df = data_train.groupby('Ticket_first_char')['Survived'].value_counts()\n",
    "df = df.unstack()"
   ]
  },
  {
   "cell_type": "code",
   "execution_count": 61,
   "metadata": {
    "collapsed": false
   },
   "outputs": [
    {
     "data": {
      "image/png": "[encoded data removed]",
      "text/plain": [
       "<matplotlib.figure.Figure at 0x7fa90fa0db00>"
      ]
     },
     "metadata": {},
     "output_type": "display_data"
    }
   ],
   "source": [
    "df.plot.bar(stacked=True,figsize = (8,6),cmap = plt.cm.RdYlGn)\n",
    "plt.ylabel('Total count')\n",
    "plt.xticks(rotation = 'horizontal');"
   ]
  },
  {
   "cell_type": "code",
   "execution_count": null,
   "metadata": {
    "collapsed": true
   },
   "outputs": [],
   "source": []
  },
  {
   "cell_type": "code",
   "execution_count": null,
   "metadata": {
    "collapsed": true
   },
   "outputs": [],
   "source": []
  },
  {
   "cell_type": "code",
   "execution_count": null,
   "metadata": {
    "collapsed": true
   },
   "outputs": [],
   "source": []
  },
  {
   "cell_type": "code",
   "execution_count": null,
   "metadata": {
    "collapsed": true
   },
   "outputs": [],
   "source": []
  },
  {
   "cell_type": "code",
   "execution_count": null,
   "metadata": {
    "collapsed": true
   },
   "outputs": [],
   "source": []
  },
  {
   "cell_type": "code",
   "execution_count": null,
   "metadata": {
    "collapsed": true
   },
   "outputs": [],
   "source": []
  },
  {
   "cell_type": "code",
   "execution_count": null,
   "metadata": {
    "collapsed": true
   },
   "outputs": [],
   "source": []
  },
  {
   "cell_type": "code",
   "execution_count": null,
   "metadata": {
    "collapsed": true
   },
   "outputs": [],
   "source": []
  },
  {
   "cell_type": "code",
   "execution_count": null,
   "metadata": {
    "collapsed": true
   },
   "outputs": [],
   "source": []
  },
  {
   "cell_type": "code",
   "execution_count": null,
   "metadata": {
    "collapsed": true
   },
   "outputs": [],
   "source": []
  },
  {
   "cell_type": "code",
   "execution_count": null,
   "metadata": {
    "collapsed": true
   },
   "outputs": [],
   "source": []
  },
  {
   "cell_type": "markdown",
   "metadata": {},
   "source": [
    "# Mashine learning"
   ]
  },
  {
   "cell_type": "code",
   "execution_count": 76,
   "metadata": {
    "collapsed": true
   },
   "outputs": [],
   "source": [
    "from sklearn.preprocessing import LabelEncoder\n",
    "from sklearn.feature_extraction import DictVectorizer\n",
    "from sklearn import metrics\n",
    "from sklearn import cross_validation\n",
    "from sklearn.ensemble import RandomForestClassifier\n",
    "from sklearn import tree"
   ]
  },
  {
   "cell_type": "code",
   "execution_count": 91,
   "metadata": {
    "collapsed": false
   },
   "outputs": [
    {
     "name": "stdout",
     "output_type": "stream",
     "text": [
      "['PassengerId' 'Survived' 'Pclass' 'Sex' 'Age' 'SibSp' 'Parch' 'Ticket'\n",
      " 'Fare' 'Cabin' 'Embarked' 'Title' 'Second_name' 'Family_size'\n",
      " 'Ticket_party_size' 'Avg_fare' 'Ticket_first_char']\n"
     ]
    }
   ],
   "source": [
    "# Column names\n",
    "print(data_train.columns.values)"
   ]
  },
  {
   "cell_type": "code",
   "execution_count": 100,
   "metadata": {
    "collapsed": true
   },
   "outputs": [],
   "source": [
    "features = ['Sex','Pclass']"
   ]
  },
  {
   "cell_type": "markdown",
   "metadata": {},
   "source": [
    "### One tree"
   ]
  },
  {
   "cell_type": "code",
   "execution_count": 101,
   "metadata": {
    "collapsed": false,
    "scrolled": true
   },
   "outputs": [
    {
     "name": "stdout",
     "output_type": "stream",
     "text": [
      "Score:\n",
      " \t 0.786756453423 \n",
      "\n",
      "-------------------------------------\n",
      "Report:\n",
      "              precision    recall  f1-score   support\n",
      "\n",
      "          0       0.75      0.98      0.85       549\n",
      "          1       0.95      0.47      0.63       342\n",
      "\n",
      "avg / total       0.82      0.79      0.77       891\n",
      "\n",
      "-------------------------------------\n",
      "Score after cross validation:\n",
      " \t 0.7822671156 +/- 0.0178870678457 \n",
      "\n",
      "\t [ 0.8047138   0.76094276  0.78114478]\n"
     ]
    }
   ],
   "source": [
    "# Playing with features\n",
    "\n",
    "X_feature =data_train[features]\n",
    "y = data_train['Survived']\n",
    "\n",
    "X_dict=X_feature.T.to_dict().values()\n",
    "\n",
    "vect = DictVectorizer(sparse=False)\n",
    "X_train = vect.fit_transform(X_dict)\n",
    "\n",
    "#le = LabelEncoder()\n",
    "y_train = y #le.fit_transform(y)\n",
    "\n",
    "clf_tree = tree.DecisionTreeClassifier(criterion='entropy')\n",
    "clf_tree.fit(X_train,y_train)\n",
    "Train_predict = clf_tree.predict(X_train)\n",
    "\n",
    "print('Score:\\n','\\t', metrics.accuracy_score(y_train,Train_predict),'\\n') \n",
    "print('-------------------------------------')\n",
    "print('Report:\\n', metrics.classification_report(y_train,Train_predict))\n",
    "\n",
    "n_folds = 3\n",
    "k_fold = cross_validation.KFold(len(X_train),n_folds=n_folds,shuffle=True)\n",
    "scores = cross_validation.cross_val_score(clf_tree,X_train,y_train,cv=k_fold)\n",
    "print('-------------------------------------')\n",
    "print('Score after cross validation:\\n', '\\t',scores.mean(),'+/-',scores.std(),'\\n\\n\\t',scores)"
   ]
  },
  {
   "cell_type": "markdown",
   "metadata": {
    "collapsed": true
   },
   "source": [
    "## Invoking Random forest"
   ]
  },
  {
   "cell_type": "code",
   "execution_count": 102,
   "metadata": {
    "collapsed": false
   },
   "outputs": [
    {
     "name": "stdout",
     "output_type": "stream",
     "text": [
      "Score:\n",
      " \t 0.786756453423 \n",
      "\n",
      "-------------------------------------\n",
      "Report:\n",
      "              precision    recall  f1-score   support\n",
      "\n",
      "          0       0.75      0.98      0.85       549\n",
      "          1       0.95      0.47      0.63       342\n",
      "\n",
      "avg / total       0.82      0.79      0.77       891\n",
      "\n",
      "-------------------------------------\n",
      "Score after cross validation:\n",
      " \t 0.773288439955 +/- 0.0088372703412 \n",
      "\n",
      "\t [ 0.77777778  0.78114478  0.76094276]\n"
     ]
    }
   ],
   "source": [
    "# Training the model\n",
    "\n",
    "clf_rf = RandomForestClassifier(n_estimators=10000, criterion='entropy')\n",
    "clf_rf.fit(X_train,y_train)\n",
    "\n",
    "Train_predict = clf_rf.predict(X_train)\n",
    "\n",
    "print('Score:\\n','\\t', metrics.accuracy_score(y_train,Train_predict),'\\n') \n",
    "print('-------------------------------------')\n",
    "print('Report:\\n', metrics.classification_report(y_train,Train_predict))\n",
    "\n",
    "n_folds = 3\n",
    "k_fold = cross_validation.KFold(len(X_train),n_folds=n_folds,shuffle=True)\n",
    "scores = cross_validation.cross_val_score(clf_tree,X_train,y_train,cv=k_fold)\n",
    "print('-------------------------------------')\n",
    "print('Score after cross validation:\\n', '\\t',scores.mean(),'+/-',scores.std(),'\\n\\n\\t',scores)"
   ]
  },
  {
   "cell_type": "code",
   "execution_count": 98,
   "metadata": {
    "collapsed": false
   },
   "outputs": [],
   "source": [
    "# Making prediction\n",
    "\n",
    "X_test = data_test[features]\n",
    "\n",
    "X_dict=X_test.T.to_dict().values()\n",
    "\n",
    "vect = DictVectorizer(sparse=False)\n",
    "X_test = vect.fit_transform(X_dict)\n",
    "\n",
    "y_predict = clf_rf.predict(X_test)"
   ]
  },
  {
   "cell_type": "code",
   "execution_count": 99,
   "metadata": {
    "collapsed": false
   },
   "outputs": [
    {
     "data": {
      "text/plain": [
       "0.4138755980861244"
      ]
     },
     "execution_count": 99,
     "metadata": {},
     "output_type": "execute_result"
    }
   ],
   "source": [
    "y_predict.sum()/len(y_predict)"
   ]
  },
  {
   "cell_type": "code",
   "execution_count": 348,
   "metadata": {
    "collapsed": true
   },
   "outputs": [],
   "source": [
    "submit_df = pd.DataFrame({'PassengerId': np.arange(892,1310), 'Survived': y_predict})\n",
    "submit_df.to_csv(\"RF_SUB_20160706_2.csv\",index=False)"
   ]
  },
  {
   "cell_type": "code",
   "execution_count": null,
   "metadata": {
    "collapsed": true
   },
   "outputs": [],
   "source": []
  },
  {
   "cell_type": "code",
   "execution_count": null,
   "metadata": {
    "collapsed": true
   },
   "outputs": [],
   "source": []
  },
  {
   "cell_type": "code",
   "execution_count": null,
   "metadata": {
    "collapsed": true
   },
   "outputs": [],
   "source": []
  },
  {
   "cell_type": "code",
   "execution_count": null,
   "metadata": {
    "collapsed": true
   },
   "outputs": [],
   "source": []
  },
  {
   "cell_type": "code",
   "execution_count": null,
   "metadata": {
    "collapsed": true
   },
   "outputs": [],
   "source": []
  },
  {
   "cell_type": "code",
   "execution_count": null,
   "metadata": {
    "collapsed": true
   },
   "outputs": [],
   "source": []
  },
  {
   "cell_type": "code",
   "execution_count": null,
   "metadata": {
    "collapsed": true
   },
   "outputs": [],
   "source": []
  },
  {
   "cell_type": "code",
   "execution_count": null,
   "metadata": {
    "collapsed": true
   },
   "outputs": [],
   "source": []
  },
  {
   "cell_type": "code",
   "execution_count": null,
   "metadata": {
    "collapsed": true
   },
   "outputs": [],
   "source": []
  },
  {
   "cell_type": "code",
   "execution_count": null,
   "metadata": {
    "collapsed": true
   },
   "outputs": [],
   "source": []
  },
  {
   "cell_type": "code",
   "execution_count": null,
   "metadata": {
    "collapsed": true
   },
   "outputs": [],
   "source": []
  },
  {
   "cell_type": "code",
   "execution_count": 144,
   "metadata": {
    "collapsed": true
   },
   "outputs": [],
   "source": [
    "import os\n",
    "from IPython.display import Image "
   ]
  },
  {
   "cell_type": "code",
   "execution_count": 145,
   "metadata": {
    "collapsed": false
   },
   "outputs": [
    {
     "data": {
      "text/plain": [
       "0"
      ]
     },
     "execution_count": 145,
     "metadata": {},
     "output_type": "execute_result"
    }
   ],
   "source": [
    "#from sklearn.externals.six import StringIO\n",
    "with open(\"tree.dot\", 'w') as f:\n",
    "    f = tree.export_graphviz(clf, out_file=f)\n",
    "\n",
    "os.system('dot -Tpng tree.dot -o tree.png')\n",
    "Image('tree.png')"
   ]
  },
  {
   "cell_type": "code",
   "execution_count": null,
   "metadata": {
    "collapsed": true
   },
   "outputs": [],
   "source": []
  }
 ],
 "metadata": {
  "kernelspec": {
   "display_name": "Python 3",
   "language": "python",
   "name": "python3"
  },
  "language_info": {
   "codemirror_mode": {
    "name": "ipython",
    "version": 3
   },
   "file_extension": ".py",
   "mimetype": "text/x-python",
   "name": "python",
   "nbconvert_exporter": "python",
   "pygments_lexer": "ipython3",
   "version": "3.5.1"
  }
 },
 "nbformat": 4,
 "nbformat_minor": 0
}
